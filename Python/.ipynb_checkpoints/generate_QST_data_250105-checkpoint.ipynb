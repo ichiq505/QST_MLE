{
 "cells": [
  {
   "cell_type": "code",
   "execution_count": 22,
   "id": "4a12da50-fd50-48ee-a644-c127f3c81ec4",
   "metadata": {},
   "outputs": [],
   "source": [
    "from qiskit.circuit import QuantumCircuit, QuantumRegister, ClassicalRegister\n",
    "from qiskit_ibm_runtime import Session, QiskitRuntimeService, SamplerV2 as Sampler\n",
    "from qiskit.transpiler.preset_passmanagers import generate_preset_pass_manager\n",
    "\n",
    "from qiskit.transpiler import PassManager, StagedPassManager\n",
    "from qiskit.transpiler.passes import (\n",
    "    TrivialLayout,\n",
    "    BasicSwap,\n",
    "    BasisTranslator\n",
    ")\n",
    "    \n",
    "\n",
    "from qiskit_ibm_runtime.fake_provider import FakeKyiv, FakeBrisbane\n",
    "\n",
    "from matplotlib import pyplot as plt\n",
    "from datetime import datetime, timezone\n",
    "import numpy as np\n",
    "from numpy import linalg as la\n",
    "from scipy.optimize import least_squares\n",
    "import os, csv"
   ]
  },
  {
   "cell_type": "markdown",
   "id": "2aa7150e-d056-4e24-9097-a008f0924c28",
   "metadata": {},
   "source": [
    "# API tokens for IBM Quantum Platform. Updated on 04-Dec-2024."
   ]
  },
  {
   "cell_type": "markdown",
   "id": "d9848b2d-a497-405f-b452-b79f13672156",
   "metadata": {
    "jp-MarkdownHeadingCollapsed": true
   },
   "source": [
    "## Account Information"
   ]
  },
  {
   "cell_type": "markdown",
   "id": "91da31f7-f39d-472a-bc2c-dc1183bafd61",
   "metadata": {
    "jp-MarkdownHeadingCollapsed": true
   },
   "source": [
    "### KQC_Pharmcadd\n",
    "### ibm-q-kqc / pharcadd / research OR ibm-q / open / main\n",
    "token = 'e2b36571a4a8ed3720a30c8d7b2d59b55347beebe48614832e74a156a3669e6179d306b2ff3727f08ef95b99c1166add2a774e80fff85405abe38a0da1eb1c8c'\n",
    "\n",
    "instances = [marrakesh, fez (156), torino (133), brussels, nazca, strasbourg, {kyiv, brisbane, sherbrooke} (127)]\n",
    "\n",
    "### my account: ichi@kaist\n",
    "### ibm-q-skku / kaist / kaist-graduate OR ibm-q / open / main\n",
    "token = '23b4b9e4f3507d73dd25691b5b96bc6a70ab7798ea6821b91db525151323338264a62e5adfff61edb604f62fcaa51a4484a54450bb239b8c52e8d1ccd76344c2'\n",
    "\n",
    "instances = [marrakesh, fez (156), torino (133), brussels, nazca, strasbourg, {kyiv, brisbane, sherbrooke} (127)]\n",
    "\n",
    "Usage limits (open): Monthly usage is limited up to 10 minutes, refreshes on the first of each month. At most 3 pending workloads at a time."
   ]
  },
  {
   "cell_type": "markdown",
   "id": "d9aa8245-8fe7-482c-adf4-2e9f0d69cbfa",
   "metadata": {},
   "source": [
    "## Load QiskitRuntimeService"
   ]
  },
  {
   "cell_type": "code",
   "execution_count": 23,
   "id": "75b7978b-b7f5-4ee1-adc0-95fd22cf291d",
   "metadata": {},
   "outputs": [],
   "source": [
    "# Show the list of the saved accounts\n",
    "saved_accounts = QiskitRuntimeService.saved_accounts()\n",
    "\n",
    "#for key, value in saved_accounts.items():\n",
    "#    print(key, value)"
   ]
  },
  {
   "cell_type": "code",
   "execution_count": 24,
   "id": "15a4fcc2-0025-4cc8-96d3-d9a4571ebbe9",
   "metadata": {},
   "outputs": [],
   "source": [
    "# Load account and generate QiskitRuntimeService\n",
    "default_account = saved_accounts['kaist_ichi9505']\n",
    "service = QiskitRuntimeService(channel=default_account['channel'],token=default_account['token'])"
   ]
  },
  {
   "cell_type": "markdown",
   "id": "368450d0-af5b-4b6a-8b52-ffc58ada04d7",
   "metadata": {},
   "source": [
    "# Functions"
   ]
  },
  {
   "cell_type": "code",
   "execution_count": 59,
   "id": "4955b508-8a3a-4a80-a4f5-b59d4c369565",
   "metadata": {},
   "outputs": [],
   "source": [
    "# <name>: <type> = <default> -> <return_type>\n",
    "def fun_zeroth_RB(x,A,p,B):\n",
    "    return A * (p ** x) + B\n",
    "\n",
    "def fun_first_RB(x,A,p,C,q,B):\n",
    "    return A*(p**x) + C*(x-1)*(p**(x-2)) + B\n",
    "\n",
    "def generate_RB_circuit(qc: QuantumCircuit, sequence: list[int], int_gate:int=None) -> QuantumCircuit:\n",
    "    qc_rb = qc.copy_empty_like(name='C_RB')\n",
    "    basis = {0:qc_rb.id,\n",
    "            1:qc_rb.x,\n",
    "            2:qc_rb.y,\n",
    "            3:qc_rb.z,\n",
    "            4:qc_rb.h,\n",
    "            5:qc_rb.s,\n",
    "            6:qc_rb.sdg}\n",
    "    clif = {0:[0],\n",
    "            1:[1],\n",
    "            2:[2],\n",
    "            3:[3],\n",
    "            4:[4],\n",
    "            5:[5],\n",
    "            6:[6],\n",
    "            7:[3,4],\n",
    "            8:[4,1],\n",
    "            9:[4,2],\n",
    "            10:[4,3],\n",
    "            11:[4,5],\n",
    "            12:[4,6],\n",
    "            13:[5,1],\n",
    "            14:[5,2],\n",
    "            15:[5,3],\n",
    "            16:[5,4],\n",
    "            17:[6,1],\n",
    "            18:[6,2],\n",
    "            19:[6,3],\n",
    "            20:[6,4],\n",
    "            21:[5,4,1],\n",
    "            22:[5,4,3],\n",
    "            23:[6,4,2]}\n",
    "    for g in sequence:\n",
    "        #print(clif[g])\n",
    "        for cg in clif[g]:\n",
    "            basis[cg](0)\n",
    "        if int_gate is None:\n",
    "            pass\n",
    "        else:\n",
    "            basis[int_gate](0)\n",
    "            \n",
    "    return qc_rb    \n",
    "\n",
    "def generate_random_sequences(num_seqs: int, max_length_seq: int) -> list[int]:\n",
    "    rng = np.random.default_rng()\n",
    "    return rng.integers(0, high=24, size=(num_seqs, max_length_seq))\n",
    "\n",
    "def generate_inverse_circuit(qc:QuantumCircuit, int_gate:str=None) -> QuantumCircuit:\n",
    "    qc_inv = qc.copy(name='C_inv')\n",
    "    return qc_inv.inverse()"
   ]
  },
  {
   "cell_type": "markdown",
   "id": "dcaa56eb-8eaf-4052-904f-c2b4335d45de",
   "metadata": {},
   "source": [
    "## conduct quantum experiments on ibm backend : Randomized Benchmarking"
   ]
  },
  {
   "cell_type": "code",
   "execution_count": 90,
   "id": "4a798eb5-772b-4081-a25a-e97f09316296",
   "metadata": {},
   "outputs": [
    {
     "name": "stdout",
     "output_type": "stream",
     "text": [
      "The chosen backend: ibm_sherbrooke\n",
      "The basis_gates of ibm_sherbrooke: ['ecr', 'id', 'rz', 'sx', 'x']\n"
     ]
    }
   ],
   "source": [
    "#backend = FakeKyiv()\n",
    "backend = service.least_busy() #get_backend('ibm_strasbourg') #least_busy()\n",
    "print(f'The chosen backend: {backend.name}')\n",
    "\n",
    "basis_gates = [instruction for instruction in backend.configuration().supported_instructions if len(instruction) < 5]\n",
    "print(f'The basis_gates of {backend.name}: {basis_gates}')\n",
    "\n",
    "target_qubit = 27\n",
    "\n",
    "d = 2\n",
    "num_seqs = 15\n",
    "max_length_seq = 96\n",
    "num_trimmers = 12\n",
    "trimmers = [int(t) for t in np.linspace(1,max_length_seq,num=num_trimmers)]\n",
    "shots_per_experiment = 2000\n",
    "\n",
    "random_sequences = generate_random_sequences(num_seqs=num_seqs, max_length_seq=max_length_seq)\n",
    "\n",
    "pm = generate_preset_pass_manager(optimization_level=0, backend=backend, initial_layout=[target_qubit])"
   ]
  },
  {
   "cell_type": "code",
   "execution_count": 91,
   "id": "42bb1eeb-0222-4903-887e-f828986f658d",
   "metadata": {},
   "outputs": [
    {
     "name": "stdout",
     "output_type": "stream",
     "text": [
      "Sequence generation is done.\n",
      "* The 1-th sequence: 1, 9, 18, 26, 35, 44, 52, 61, 70, 78, 87, 96, \n",
      "* The 2-th sequence: 1, 9, 18, 26, 35, 44, 52, 61, 70, 78, 87, 96, \n",
      "* The 3-th sequence: 1, 9, 18, 26, 35, 44, 52, 61, 70, 78, 87, 96, \n",
      "* The 4-th sequence: 1, 9, 18, 26, 35, 44, 52, 61, 70, 78, 87, 96, \n",
      "* The 5-th sequence: 1, 9, 18, 26, 35, 44, 52, 61, 70, 78, 87, 96, \n",
      "* The 6-th sequence: 1, 9, 18, 26, 35, 44, 52, 61, 70, 78, 87, 96, \n",
      "* The 7-th sequence: 1, 9, 18, 26, 35, 44, 52, 61, 70, 78, 87, 96, \n",
      "* The 8-th sequence: 1, 9, 18, 26, 35, 44, 52, 61, 70, 78, 87, 96, \n",
      "* The 9-th sequence: 1, 9, 18, 26, 35, 44, 52, 61, 70, 78, 87, 96, \n",
      "* The 10-th sequence: 1, 9, 18, 26, 35, 44, 52, 61, 70, 78, 87, 96, \n",
      "* The 11-th sequence: 1, 9, 18, 26, 35, 44, 52, 61, 70, 78, 87, 96, \n",
      "* The 12-th sequence: 1, 9, 18, 26, 35, 44, 52, 61, 70, 78, 87, 96, \n",
      "* The 13-th sequence: 1, 9, 18, 26, 35, 44, 52, 61, 70, 78, 87, 96, \n",
      "* The 14-th sequence: 1, 9, 18, 26, 35, 44, 52, 61, 70, 78, 87, 96, \n",
      "* The 15-th sequence: 1, 9, 18, 26, 35, 44, 52, 61, 70, 78, 87, 96, \n",
      "#seq | Survival Probabilities\n",
      "   1 | [0.9975, 0.9875, 0.9865, 0.984, 0.973, 0.977, 0.9725, 0.962, 0.9525, 0.9375, 0.9455, 0.951]\n",
      "   2 | [0.99, 0.992, 0.9865, 0.9845, 0.981, 0.977, 0.9515, 0.9625, 0.9595, 0.957, 0.964, 0.969]\n",
      "   3 | [0.993, 0.991, 0.99, 0.977, 0.976, 0.977, 0.9655, 0.9645, 0.957, 0.964, 0.943, 0.957]\n",
      "   4 | [0.9925, 0.992, 0.989, 0.986, 0.9825, 0.9765, 0.96, 0.975, 0.9705, 0.9605, 0.955, 0.951]\n",
      "   5 | [0.995, 0.9865, 0.984, 0.988, 0.9865, 0.978, 0.9805, 0.9765, 0.97, 0.972, 0.9725, 0.9705]\n",
      "   6 | [0.992, 0.9875, 0.977, 0.976, 0.9495, 0.9725, 0.9485, 0.9465, 0.9565, 0.911, 0.922, 0.9275]\n",
      "   7 | [0.9975, 0.9895, 0.989, 0.984, 0.973, 0.9815, 0.9725, 0.9635, 0.974, 0.967, 0.9655, 0.955]\n",
      "   8 | [0.9925, 0.9915, 0.979, 0.982, 0.981, 0.9675, 0.9675, 0.964, 0.9405, 0.888, 0.9195, 0.947]\n",
      "   9 | [0.997, 0.9895, 0.974, 0.9765, 0.9535, 0.975, 0.9435, 0.964, 0.9125, 0.8865, 0.897, 0.8505]\n",
      "  10 | [0.967, 0.949, 0.911, 0.9035, 0.9285, 0.9505, 0.94, 0.9335, 0.9525, 0.947, 0.9315, 0.9365]\n",
      "  11 | [0.9955, 0.989, 0.973, 0.96, 0.9615, 0.9345, 0.9175, 0.9295, 0.9135, 0.9205, 0.864, 0.8785]\n",
      "  12 | [0.9925, 0.991, 0.978, 0.975, 0.962, 0.9615, 0.949, 0.9565, 0.9375, 0.906, 0.891, 0.9045]\n",
      "  13 | [0.996, 0.989, 0.991, 0.954, 0.9575, 0.9415, 0.925, 0.9225, 0.9185, 0.895, 0.8925, 0.9055]\n",
      "  14 | [0.9955, 0.9855, 0.9645, 0.96, 0.8565, 0.9495, 0.8255, 0.9245, 0.922, 0.7945, 0.897, 0.9125]\n",
      "  15 | [0.994, 0.9875, 0.9745, 0.927, 0.9545, 0.9035, 0.9645, 0.9495, 0.927, 0.925, 0.8185, 0.801]\n",
      "#seq | Survival Probabilities (int)\n",
      "   1 | [0.9945, 0.985, 0.978, 0.9755, 0.9555, 0.954, 0.9395, 0.933, 0.934, 0.887, 0.8955, 0.9165]\n",
      "   2 | [0.994, 0.9865, 0.9745, 0.9695, 0.9645, 0.9475, 0.9505, 0.9375, 0.904, 0.9345, 0.93, 0.9135]\n",
      "   3 | [0.9945, 0.9885, 0.98, 0.969, 0.9615, 0.956, 0.9445, 0.961, 0.9485, 0.92, 0.913, 0.9155]\n",
      "   4 | [0.9905, 0.986, 0.9645, 0.9775, 0.9575, 0.934, 0.9385, 0.9455, 0.9365, 0.9165, 0.8955, 0.899]\n",
      "   5 | [0.993, 0.985, 0.981, 0.9725, 0.9645, 0.9645, 0.934, 0.964, 0.943, 0.9455, 0.9075, 0.92]\n",
      "   6 | [0.995, 0.986, 0.969, 0.97, 0.9585, 0.9435, 0.9175, 0.8965, 0.9375, 0.907, 0.86, 0.8645]\n",
      "   7 | [0.992, 0.9835, 0.9775, 0.9605, 0.969, 0.958, 0.927, 0.944, 0.952, 0.929, 0.9315, 0.919]\n",
      "   8 | [0.9935, 0.982, 0.965, 0.952, 0.956, 0.926, 0.904, 0.9095, 0.887, 0.8795, 0.8835, 0.903]\n",
      "   9 | [0.992, 0.983, 0.9655, 0.9375, 0.9335, 0.925, 0.9225, 0.9025, 0.7995, 0.833, 0.739, 0.7285]\n",
      "  10 | [0.9735, 0.88, 0.833, 0.934, 0.9315, 0.876, 0.9025, 0.8945, 0.8405, 0.8855, 0.878, 0.8535]\n",
      "  11 | [0.989, 0.9635, 0.9315, 0.8955, 0.8975, 0.8935, 0.8715, 0.8315, 0.8495, 0.8265, 0.7875, 0.791]\n",
      "  12 | [0.9895, 0.969, 0.9405, 0.929, 0.9105, 0.9155, 0.858, 0.852, 0.839, 0.832, 0.7765, 0.8115]\n",
      "  13 | [0.9955, 0.9765, 0.9555, 0.9315, 0.9255, 0.907, 0.9035, 0.8195, 0.831, 0.8, 0.665, 0.841]\n",
      "  14 | [0.994, 0.973, 0.9555, 0.822, 0.8805, 0.899, 0.8845, 0.8265, 0.8405, 0.6895, 0.803, 0.814]\n",
      "  15 | [0.9935, 0.9355, 0.96, 0.9215, 0.9095, 0.9005, 0.903, 0.8955, 0.8555, 0.859, 0.8125, 0.8235]\n",
      "Avg.     | [0.9925     0.98653333 0.97646667 0.96783333 0.95843333 0.96153333\n",
      " 0.94556667 0.95296667 0.94426667 0.9221     0.91856667 0.92113333]\n",
      "Avg.(int) | [0.9916     0.97086667 0.9554     0.94116667 0.93836667 0.92666667\n",
      " 0.9134     0.90086667 0.88653333 0.86963333 0.8452     0.86093333]\n"
     ]
    }
   ],
   "source": [
    "isa_circuits_all = []\n",
    "isa_circuits_all_int = []\n",
    "for s in random_sequences:\n",
    "    isa_circuits_seq = []\n",
    "    isa_circuits_seq_int = []\n",
    "    for t in trimmers:\n",
    "        qr = QuantumRegister(1)\n",
    "        qc = QuantumCircuit(qr)\n",
    "    \n",
    "        qc.compose(generate_RB_circuit(qc, s[:t]), inplace=True)\n",
    "        qc.barrier()\n",
    "        qc.compose(generate_inverse_circuit(qc), inplace=True)\n",
    "        qc.measure_all() #(qr,cr)\n",
    "\n",
    "        isa_circuits_seq.append(pm.run(qc))\n",
    "    for t in trimmers:\n",
    "        qr = QuantumRegister(1)\n",
    "        qc = QuantumCircuit(qr)\n",
    "    \n",
    "        qc.compose(generate_RB_circuit(qc, s[:t], int_gate=1), inplace=True)\n",
    "        qc.barrier()\n",
    "        qc.compose(generate_inverse_circuit(qc), inplace=True)\n",
    "        qc.measure_all() #(qr,cr)\n",
    "\n",
    "        isa_circuits_seq_int.append(pm.run(qc))\n",
    "    isa_circuits_all.append(isa_circuits_seq)\n",
    "    isa_circuits_all_int.append(isa_circuits_seq_int)\n",
    "print('Sequence generation is done.')\n",
    "\n",
    "survivalProbs_all = []\n",
    "survivalProbs_all_int = []\n",
    "with Session(backend=backend) as session:\n",
    "    # circuit, measure\n",
    "    sampler = Sampler(session=session)\n",
    "    for idx_seq in range(num_seqs):\n",
    "        print(f'* The {idx_seq+1}-th sequence: ', end='')\n",
    "        survivalProbs_seq = []\n",
    "        survivalProbs_seq_int = []\n",
    "        for idx_trimmer in range(num_trimmers):\n",
    "            print(f'{trimmers[idx_trimmer]}, ', end='')\n",
    "            #sampler = Sampler(session=session)\n",
    "            job = sampler.run([isa_circuits_all[idx_seq][idx_trimmer]], shots=shots_per_experiment)\n",
    "\n",
    "            pub_results = job.result()[0]['__value__']['data'] #.data\n",
    "            pub_counts = pub_results.meas.get_counts() #MEAS.get_counts()\n",
    "\n",
    "            if '0' not in pub_counts.keys():\n",
    "                pub_counts['0'] = 0\n",
    "            if '1' not in pub_counts.keys():\n",
    "                pub_counts['1'] = 0\n",
    "\n",
    "            survivalProbs_seq.append(pub_counts['0'] / shots_per_experiment)\n",
    "\n",
    "            job = sampler.run([isa_circuits_all_int[idx_seq][idx_trimmer]], shots=shots_per_experiment)\n",
    "\n",
    "            pub_results = job.result()[0]['__value__']['data'] #.data\n",
    "            pub_counts = pub_results.meas.get_counts() #MEAS.get_counts()\n",
    "\n",
    "            if '0' not in pub_counts.keys():\n",
    "                pub_counts['0'] = 0\n",
    "            if '1' not in pub_counts.keys():\n",
    "                pub_counts['1'] = 0\n",
    "\n",
    "            survivalProbs_seq_int.append(pub_counts['0'] / shots_per_experiment)\n",
    "        survivalProbs_all.append(survivalProbs_seq)\n",
    "        survivalProbs_all_int.append(survivalProbs_seq_int)\n",
    "        print('')\n",
    "\n",
    "print(\"{0:<4}{1:^3}{2}\".format('#seq','|','Survival Probabilities'))\n",
    "for i, survP in enumerate(survivalProbs_all):\n",
    "    print('{0:>4}{1:^3}{2}'.format(i+1,'|',survP))\n",
    "\n",
    "print(\"{0:<4}{1:^3}{2}\".format('#seq','|','Survival Probabilities (int)'))\n",
    "for i, survP in enumerate(survivalProbs_all_int):\n",
    "    print('{0:>4}{1:^3}{2}'.format(i+1,'|',survP))\n",
    "\n",
    "# after session ends, postprocessing\n",
    "avg_survivalProbs = np.sum(survivalProbs_all, axis=0) / num_seqs\n",
    "avg_survivalProbs_int = np.sum(survivalProbs_all_int, axis=0) / num_seqs\n",
    "\n",
    "print(\"{0:<8}{1:^3}{2}\".format('Avg.','|',avg_survivalProbs))\n",
    "print(\"{0:<8}{1:^3}{2}\".format('Avg.(int)','|',avg_survivalProbs_int))\n",
    "\n",
    "#plt.scatter(trimmers, avg_survivalProbs)"
   ]
  },
  {
   "cell_type": "code",
   "execution_count": 93,
   "id": "145e0c40-2b67-4f23-b320-1a2b61d0cb44",
   "metadata": {},
   "outputs": [
    {
     "data": {
      "image/png": "[encoded data removed]",
      "text/plain": [
       "<Figure size 640x480 with 1 Axes>"
      ]
     },
     "metadata": {},
     "output_type": "display_data"
    },
    {
     "name": "stdout",
     "output_type": "stream",
     "text": [
      "Averaged Clifford Error Rate:    0.065856%\n",
      "Interleaved Gate Error Rate:     0.024046%\n"
     ]
    }
   ],
   "source": [
    "from scipy.optimize import curve_fit\n",
    "\n",
    "xdata = np.array(trimmers)\n",
    "ydata = avg_survivalProbs\n",
    "ydata_int = avg_survivalProbs_int\n",
    "\n",
    "p0 = [0.5, 1.0, 0.5]\n",
    "\n",
    "p_opt, p_cov = curve_fit(fun_zeroth_RB, xdata, ydata, p0=p0)\n",
    "fit_xdata = np.linspace(1,max_length_seq,num=2*max_length_seq)\n",
    "fit_ydata = [fun_zeroth_RB(x, *p_opt) for x in fit_xdata]\n",
    "\n",
    "p_opt_int, p_cov = curve_fit(fun_zeroth_RB, xdata, ydata_int, p0=p0)\n",
    "fit_ydata_int = [fun_zeroth_RB(x, *p_opt_int) for x in fit_xdata]\n",
    "\n",
    "plt.scatter(xdata, ydata, label='data')\n",
    "plt.plot(fit_xdata, fit_ydata, label='[A,p,B]=[{:.4f},{:.4f},{:.4f}]'.format(*p_opt))\n",
    "\n",
    "plt.scatter(xdata, ydata_int, label='data_int')\n",
    "plt.plot(fit_xdata, fit_ydata_int, label='[A,p,B]=[{:.4f},{:.4f},{:.4f}]'.format(*p_opt_int))\n",
    "\n",
    "plt.xlabel('length of sequence (m)')\n",
    "plt.ylabel('survival probability')\n",
    "plt.legend()\n",
    "plt.grid()\n",
    "plt.show()\n",
    "\n",
    "print(\"Averaged Clifford Error Rate:{0:>12.6f}%\\nInterleaved Gate Error Rate:{1:>13.6f}%\".format((1-p_opt[1])/0.02,(1-(p_opt_int[1]/p_opt[1]))/0.02))"
   ]
  },
  {
   "cell_type": "markdown",
   "id": "e910611f-8710-4892-9fe8-722292e6ba22",
   "metadata": {},
   "source": [
    "### Backend Properties"
   ]
  },
  {
   "cell_type": "code",
   "execution_count": 96,
   "id": "2aaf66b9-95b7-405f-85a6-7f0fa62f77fe",
   "metadata": {},
   "outputs": [
    {
     "name": "stdout",
     "output_type": "stream",
     "text": [
      "==============================\n",
      "|      Calibration Data      |\n",
      "------------------------------\n",
      "Backend name: ibm_sherbrooke\n",
      "Last calibrated date: 2025-01-04 15:37:00+09:00\n",
      "========================================================================================\n",
      "qubit 27 | readout_error (%): 0.8199999999999985\n",
      "qubit 27 | id_error (%): 0.02700792675491292\n",
      "qubit 27 | rz_error (%): 0\n",
      "qubit 27 | sx_error (%): 0.02700792675491292\n",
      "qubit 27 | x_error (%): 0.02700792675491292\n",
      "------------------------------\n",
      "|            Done            |\n",
      "==============================\n"
     ]
    }
   ],
   "source": [
    "backend_properties = backend.properties().to_dict()\n",
    "\n",
    "print('==============================')\n",
    "print(\"|      Calibration Data      |\")\n",
    "print('------------------------------')\n",
    "\n",
    "print(\"Backend name:\", backend_properties['backend_name'])\n",
    "print(\"Last calibrated date:\", backend_properties['last_update_date'])\n",
    "\n",
    "for qq in [target_qubit]:\n",
    "    rdout_err = backend_properties['qubits'][qq][4]['value'] * 100\n",
    "    id_err = backend_properties['gates'][qq]['parameters'][0]['value'] * 100\n",
    "    rz_err = backend_properties['gates'][qq+127]['parameters'][0]['value'] * 100\n",
    "    sx_err = backend_properties['gates'][qq+127*2]['parameters'][0]['value'] * 100\n",
    "    x_err = backend_properties['gates'][qq+127*3]['parameters'][0]['value'] * 100\n",
    "    \n",
    "    print(\"========================================================================================\")\n",
    "    print(\"qubit {0} | readout_error (%): {1}\".format(qq,rdout_err))\n",
    "    print(\"qubit {0} | id_error (%): {1}\".format(backend_properties['gates'][qq]['qubits'][0], id_err))\n",
    "    print(\"qubit {0} | rz_error (%): {1}\".format(backend_properties['gates'][qq+127]['qubits'][0], rz_err))\n",
    "    print(\"qubit {0} | sx_error (%): {1}\".format(backend_properties['gates'][qq+127*2]['qubits'][0], sx_err))\n",
    "    print(\"qubit {0} | x_error (%): {1}\".format(backend_properties['gates'][qq+127*3]['qubits'][0],x_err))\n",
    "                \n",
    "print('------------------------------')\n",
    "print(\"|            Done            |\")\n",
    "print('==============================')"
   ]
  },
  {
   "cell_type": "markdown",
   "id": "587ef2d1-2881-47b5-a411-654603289fd9",
   "metadata": {
    "jp-MarkdownHeadingCollapsed": true
   },
   "source": [
    "## function trash bin"
   ]
  },
  {
   "cell_type": "code",
   "execution_count": null,
   "id": "1e2f9c0e-4a5b-400b-9870-65ebaee79fcf",
   "metadata": {},
   "outputs": [],
   "source": [
    "def generate_inverse_unitary_gate(qc:QuantumCircuit, sequence: list[int]) -> QuantumCircuit:\n",
    "    qc_unitary_inverse = qc.copy_empty_like(name='C_u_inv')\n",
    "    \n",
    "    unitaries = {0:np.eye(2),\n",
    "                1:np.array([[0,1],[1,0]]),\n",
    "                2:np.array([[0,-1j],[1j,0]]),\n",
    "                3:np.array([[1,0],[0,-1]]),\n",
    "                4:np.array([[1,1],[1,-1]] / np.sqrt(2)),\n",
    "                5:np.array([[1,0],[0,1j]]),\n",
    "                6:np.array([[1,-1],[1,1]] / np.sqrt(2)),\n",
    "                7:np.array([[-1j,1j],[1j,1j]] / np.sqrt(2)),\n",
    "                8:np.array([[1,1],[-1,1]] / np.sqrt(2)),\n",
    "                9:np.array([[0,1j],[1,0]]),\n",
    "                10:np.array([[0,1],[1j,0]]),\n",
    "                11:np.array([[1,0],[0,-1j]]),\n",
    "                12:np.array([[1,0],[0,-1j]]),\n",
    "                13:np.array([[0,-1j],[1,0]]),\n",
    "                14:np.array([[0,-1],[1j,0]]),\n",
    "                15:np.array([[1,0],[0,1j]]),\n",
    "                16:np.array([[1,1j],[1,-1j]] / np.sqrt(2)),\n",
    "                17:np.array([[1,1],[1j,-1j]] / np.sqrt(2)),\n",
    "                18:np.array([[1,-1j],[1,1j]] / np.sqrt(2)),\n",
    "                19:np.array([[1,1],[-1j,1j]] / np.sqrt(2)),\n",
    "                20:np.array([[1,-1],[1,1]] / np.sqrt(2)),\n",
    "                21:np.array([[1,-1j],[1,1j]] / np.sqrt(2)),\n",
    "                22:np.array([[-1j,1],[1j,1]] / np.sqrt(2)),\n",
    "                23:np.array([[1,1j],[-1,1j]] / np.sqrt(2))}\n",
    "    \n",
    "    inverse_unitary = np.eye(2)\n",
    "    for g in sequence:\n",
    "        inverse_unitary = unitaries[g] @ inverse_unitary\n",
    "\n",
    "    qc_unitary_inverse.unitary(inverse_unitary.conj().T,0)\n",
    "#    print(type(qc_unitary_inverse))\n",
    "    \n",
    "    return qc_unitary_inverse\n",
    "\n",
    "\n",
    "############\n",
    "def inverse_map(X: np.array) -> np.array:\n",
    "    if isUnitary(X):\n",
    "        return X.conj().T\n",
    "    return X.conj().T\n",
    "\n",
    "def isUnitary(X: np.array) -> bool:\n",
    "    return np.allclose(np.eye(len(X)), X @ X.conj().T)"
   ]
  }
 ],
 "metadata": {
  "kernelspec": {
   "display_name": "Python 3 (ipykernel)",
   "language": "python",
   "name": "python3"
  },
  "language_info": {
   "codemirror_mode": {
    "name": "ipython",
    "version": 3
   },
   "file_extension": ".py",
   "mimetype": "text/x-python",
   "name": "python",
   "nbconvert_exporter": "python",
   "pygments_lexer": "ipython3",
   "version": "3.11.9"
  }
 },
 "nbformat": 4,
 "nbformat_minor": 5
}
