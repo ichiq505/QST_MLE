{
 "cells": [
  {
   "cell_type": "code",
   "execution_count": 32,
   "id": "4a12da50-fd50-48ee-a644-c127f3c81ec4",
   "metadata": {},
   "outputs": [],
   "source": [
    "from qiskit.circuit import QuantumCircuit, QuantumRegister, ClassicalRegister\n",
    "from qiskit_ibm_runtime import Session, QiskitRuntimeService, SamplerV2 as Sampler\n",
    "from qiskit.transpiler.preset_passmanagers import generate_preset_pass_manager\n",
    "\n",
    "from matplotlib import pyplot as plt\n",
    "from datetime import datetime, timezone\n",
    "import numpy as np\n",
    "from numpy import linalg as la\n",
    "import os, csv"
   ]
  },
  {
   "cell_type": "markdown",
   "id": "2aa7150e-d056-4e24-9097-a008f0924c28",
   "metadata": {},
   "source": [
    "# API tokens for IBM Quantum Platform. Updated on 04-Dec-2024."
   ]
  },
  {
   "cell_type": "markdown",
   "id": "d9848b2d-a497-405f-b452-b79f13672156",
   "metadata": {
    "jp-MarkdownHeadingCollapsed": true
   },
   "source": [
    "## Account Information"
   ]
  },
  {
   "cell_type": "markdown",
   "id": "91da31f7-f39d-472a-bc2c-dc1183bafd61",
   "metadata": {
    "jp-MarkdownHeadingCollapsed": true
   },
   "source": [
    "### KQC_Pharmcadd\n",
    "### ibm-q-kqc / pharcadd / research OR ibm-q / open / main\n",
    "token = 'e2b36571a4a8ed3720a30c8d7b2d59b55347beebe48614832e74a156a3669e6179d306b2ff3727f08ef95b99c1166add2a774e80fff85405abe38a0da1eb1c8c'\n",
    "\n",
    "instances = [marrakesh, fez (156), torino (133), brussels, nazca, strasbourg, {kyiv, brisbane, sherbrooke} (127)]\n",
    "\n",
    "### my account: ichi@kaist\n",
    "### ibm-q-skku / kaist / kaist-graduate OR ibm-q / open / main\n",
    "token = '23b4b9e4f3507d73dd25691b5b96bc6a70ab7798ea6821b91db525151323338264a62e5adfff61edb604f62fcaa51a4484a54450bb239b8c52e8d1ccd76344c2'\n",
    "\n",
    "instances = [marrakesh, fez (156), torino (133), brussels, nazca, strasbourg, {kyiv, brisbane, sherbrooke} (127)]\n",
    "\n",
    "Usage limits (open): Monthly usage is limited up to 10 minutes, refreshes on the first of each month. At most 3 pending workloads at a time."
   ]
  },
  {
   "cell_type": "markdown",
   "id": "d9aa8245-8fe7-482c-adf4-2e9f0d69cbfa",
   "metadata": {},
   "source": [
    "## Load QiskitRuntimeService"
   ]
  },
  {
   "cell_type": "code",
   "execution_count": 33,
   "id": "75b7978b-b7f5-4ee1-adc0-95fd22cf291d",
   "metadata": {},
   "outputs": [],
   "source": [
    "# Show the list of the saved accounts\n",
    "saved_accounts = QiskitRuntimeService.saved_accounts()\n",
    "\n",
    "#for key, value in saved_accounts.items():\n",
    "#    print(key, value)"
   ]
  },
  {
   "cell_type": "code",
   "execution_count": 34,
   "id": "15a4fcc2-0025-4cc8-96d3-d9a4571ebbe9",
   "metadata": {},
   "outputs": [],
   "source": [
    "# Load account and generate QiskitRuntimeService\n",
    "default_account = saved_accounts['kaist_ichi9505']\n",
    "service = QiskitRuntimeService(channel=default_account['channel'],token=default_account['token'])"
   ]
  },
  {
   "cell_type": "markdown",
   "id": "368450d0-af5b-4b6a-8b52-ffc58ada04d7",
   "metadata": {},
   "source": [
    "# Functions"
   ]
  },
  {
   "cell_type": "code",
   "execution_count": 40,
   "id": "4955b508-8a3a-4a80-a4f5-b59d4c369565",
   "metadata": {},
   "outputs": [],
   "source": [
    "# <name>: <type> = <default> -> <return_type>\n",
    "def generate_QST_circuit(qc: QuantumCircuit, meas_basis: list[str]) -> QuantumCircuit:\n",
    "    qc_qst = qc.copy_empty_like(name='meas_basis')\n",
    "    \n",
    "    gates = {'x':qc_qst.x,\n",
    "            'h':qc_qst.h,\n",
    "            's':qc_qst.s,\n",
    "            'sdg':qc_qst.sdg}\n",
    "    basis_conv = {'x+':['h'],\n",
    "                  'x-':['h','x'],\n",
    "                  'y+':['sdg','h'],\n",
    "                  'y-':['sdg','h','x'],\n",
    "                  'z+':[None],\n",
    "                  'z-':['x']}\n",
    "    \n",
    "    for qubit, mbasis in enumerate(meas_basis):\n",
    "        for cg in basis_conv[mbasis]:\n",
    "            if cg is None:\n",
    "                pass\n",
    "            else:\n",
    "                gates[cg](qubit)\n",
    "    \n",
    "    return qc_qst\n",
    "\n",
    "def generate_QDT_circuit(qc: QuantumCircuit, prep_state: list[str]) -> QuantumCircuit:\n",
    "    qc_qdt = qc.copy_empty_like(name='state_prep')\n",
    "    \n",
    "    gates = {'x':qc_qdt.x,\n",
    "            'h':qc_qdt.h,\n",
    "            's':qc_qdt.s,\n",
    "            'sdg':qc_qdt.sdg}\n",
    "    basis_conv = {'x+':['h'],\n",
    "                  'x-':['x','h'],\n",
    "                  'y+':['h','s'],\n",
    "                  'y-':['x','h','s'],\n",
    "                  'z+':[None],\n",
    "                  'z-':['x']}\n",
    "    \n",
    "    for qubit, pstate in enumerate(prep_state):\n",
    "        for cg in basis_conv[pstate]:\n",
    "            gates[cg](qubit)\n",
    "    \n",
    "    return qc_qdt\n",
    "\n",
    "def generate_basis_list(blist:list[list[str]],basis:list[str]=['x+','x-','y+','y-','z+','z-']) -> list[list[str]]:\n",
    "    return [bpre+[badd] for bpre in blist for badd in basis]"
   ]
  },
  {
   "cell_type": "markdown",
   "id": "dcaa56eb-8eaf-4052-904f-c2b4335d45de",
   "metadata": {},
   "source": [
    "## conduct quantum experiments on ibm backend : QST"
   ]
  },
  {
   "cell_type": "code",
   "execution_count": 37,
   "id": "4a798eb5-772b-4081-a25a-e97f09316296",
   "metadata": {},
   "outputs": [
    {
     "name": "stdout",
     "output_type": "stream",
     "text": [
      "The chosen backend: ibm_sherbrooke\n",
      "The basis_gates of ibm_sherbrooke: ['ecr', 'id', 'rz', 'sx', 'x']\n"
     ]
    }
   ],
   "source": [
    "#backend = FakeKyiv()\n",
    "backend = service.least_busy() #get_backend('ibm_strasbourg') #least_busy()\n",
    "print(f'The chosen backend: {backend.name}')\n",
    "\n",
    "basis_gates = [instruction for instruction in backend.configuration().supported_instructions if len(instruction) < 5]\n",
    "print(f'The basis_gates of {backend.name}: {basis_gates}')\n",
    "\n",
    "target_qubits = [27]\n",
    "\n",
    "d = 2**len(target_qubits)\n",
    "shots_per_experiment = 8000\n",
    "\n",
    "pm = generate_preset_pass_manager(optimization_level=0, backend=backend, initial_layout=target_qubits)"
   ]
  },
  {
   "cell_type": "code",
   "execution_count": 45,
   "id": "aa9764da-0e6a-4b68-9613-44f8b0d4fb86",
   "metadata": {},
   "outputs": [
    {
     "name": "stdout",
     "output_type": "stream",
     "text": [
      "1\n",
      "['x+']\n",
      "['x-']\n",
      "['y+']\n",
      "['y-']\n",
      "['z+']\n",
      "['z-']\n",
      "6\n",
      "[<qiskit.circuit.quantumcircuit.QuantumCircuit object at 0x00000258A0C53050>, <qiskit.circuit.quantumcircuit.QuantumCircuit object at 0x00000258A1D9E590>, <qiskit.circuit.quantumcircuit.QuantumCircuit object at 0x00000258A1DF3C50>, <qiskit.circuit.quantumcircuit.QuantumCircuit object at 0x00000258A1DF0910>, <qiskit.circuit.quantumcircuit.QuantumCircuit object at 0x00000258A1DF1AD0>, <qiskit.circuit.quantumcircuit.QuantumCircuit object at 0x00000258A1DF2F10>]\n",
      "QST circuit generation is done.\n"
     ]
    }
   ],
   "source": [
    "meas_basis_1 = ['x+','x-','y+','y-','z+','z-']\n",
    "meas_basis_list = []\n",
    "for qubit in range(len(target_qubits)):\n",
    "    if qubit==0:\n",
    "        meas_basis_list.extend([[m] for m in meas_basis_1])\n",
    "    else:\n",
    "        meas_basis_list = generate_basis_list(meas_basis_list, meas_basis_1)\n",
    "\n",
    "print(len(target_qubits))\n",
    "isa_circuits_qst = []    \n",
    "for meas_basis in meas_basis_list:\n",
    "    print(meas_basis)\n",
    "    qr = QuantumRegister(len(target_qubits))\n",
    "    qc = QuantumCircuit(qr)\n",
    "\n",
    "    qc.x(0)\n",
    "    qc.barrier()\n",
    "    qc.compose(generate_QST_circuit(qc, meas_basis), inplace=True)\n",
    "    qc.measure_all()\n",
    "    \n",
    "    isa_circuits_qst.append(qc)\n",
    "    #qc.draw('mpl', filename=f\"../data/qst_{''.join(meas_basis)}.png\", initial_state=True)\n",
    "\n",
    "print(len(isa_circuits_qst))\n",
    "print(isa_circuits_qst)\n",
    "print('QST circuit generation is done.')"
   ]
  },
  {
   "cell_type": "code",
   "execution_count": 46,
   "id": "7f55aba2-6ce2-48a1-a8f0-a8e1f41839ba",
   "metadata": {},
   "outputs": [
    {
     "ename": "IBMInputValueError",
     "evalue": "'The instruction h on qubits (0,) is not supported by the target system. Circuits that do not match the target hardware definition are no longer supported after March 4, 2024. See the transpilation documentation (https://docs.quantum.ibm.com/transpile) for instructions to transform circuits and the primitive examples (https://docs.quantum.ibm.com/run/primitives-examples) to see this coupled with operator transformations.'",
     "output_type": "error",
     "traceback": [
      "\u001b[1;31m---------------------------------------------------------------------------\u001b[0m",
      "\u001b[1;31mIBMInputValueError\u001b[0m                        Traceback (most recent call last)",
      "Cell \u001b[1;32mIn[46], line 7\u001b[0m\n\u001b[0;32m      5\u001b[0m sampler \u001b[38;5;241m=\u001b[39m Sampler(session\u001b[38;5;241m=\u001b[39msession)\n\u001b[0;32m      6\u001b[0m \u001b[38;5;28;01mfor\u001b[39;00m qc_qst \u001b[38;5;129;01min\u001b[39;00m isa_circuits_qst:\n\u001b[1;32m----> 7\u001b[0m     job \u001b[38;5;241m=\u001b[39m sampler\u001b[38;5;241m.\u001b[39mrun([qc_qst], shots\u001b[38;5;241m=\u001b[39mshots_per_experiment)\n\u001b[0;32m      9\u001b[0m     pub_results \u001b[38;5;241m=\u001b[39m job\u001b[38;5;241m.\u001b[39mresult()[\u001b[38;5;241m0\u001b[39m][\u001b[38;5;124m'\u001b[39m\u001b[38;5;124m__value__\u001b[39m\u001b[38;5;124m'\u001b[39m][\u001b[38;5;124m'\u001b[39m\u001b[38;5;124mdata\u001b[39m\u001b[38;5;124m'\u001b[39m] \u001b[38;5;66;03m#.data\u001b[39;00m\n\u001b[0;32m     10\u001b[0m     pub_counts \u001b[38;5;241m=\u001b[39m pub_results\u001b[38;5;241m.\u001b[39mmeas\u001b[38;5;241m.\u001b[39mget_counts() \u001b[38;5;66;03m#MEAS.get_counts()\u001b[39;00m\n",
      "File \u001b[1;32m~\\Anaconda3\\envs\\qiskitone\\Lib\\site-packages\\qiskit_ibm_runtime\\sampler.py:121\u001b[0m, in \u001b[0;36mSamplerV2.run\u001b[1;34m(self, pubs, shots)\u001b[0m\n\u001b[0;32m    114\u001b[0m \u001b[38;5;28;01mif\u001b[39;00m \u001b[38;5;28many\u001b[39m(\u001b[38;5;28mlen\u001b[39m(pub\u001b[38;5;241m.\u001b[39mcircuit\u001b[38;5;241m.\u001b[39mcregs) \u001b[38;5;241m==\u001b[39m \u001b[38;5;241m0\u001b[39m \u001b[38;5;28;01mfor\u001b[39;00m pub \u001b[38;5;129;01min\u001b[39;00m coerced_pubs):\n\u001b[0;32m    115\u001b[0m     warnings\u001b[38;5;241m.\u001b[39mwarn(\n\u001b[0;32m    116\u001b[0m         \u001b[38;5;124m\"\u001b[39m\u001b[38;5;124mOne of your circuits has no output classical registers and so the result \u001b[39m\u001b[38;5;124m\"\u001b[39m\n\u001b[0;32m    117\u001b[0m         \u001b[38;5;124m\"\u001b[39m\u001b[38;5;124mwill be empty. Did you mean to add measurement instructions?\u001b[39m\u001b[38;5;124m\"\u001b[39m,\n\u001b[0;32m    118\u001b[0m         \u001b[38;5;167;01mUserWarning\u001b[39;00m,\n\u001b[0;32m    119\u001b[0m     )\n\u001b[1;32m--> 121\u001b[0m \u001b[38;5;28;01mreturn\u001b[39;00m \u001b[38;5;28mself\u001b[39m\u001b[38;5;241m.\u001b[39m_run(coerced_pubs)\n",
      "File \u001b[1;32m~\\Anaconda3\\envs\\qiskitone\\Lib\\site-packages\\qiskit_ibm_runtime\\base_primitive.py:155\u001b[0m, in \u001b[0;36mBasePrimitiveV2._run\u001b[1;34m(self, pubs)\u001b[0m\n\u001b[0;32m    153\u001b[0m \u001b[38;5;28;01mfor\u001b[39;00m pub \u001b[38;5;129;01min\u001b[39;00m pubs:\n\u001b[0;32m    154\u001b[0m     \u001b[38;5;28;01mif\u001b[39;00m \u001b[38;5;28mgetattr\u001b[39m(\u001b[38;5;28mself\u001b[39m\u001b[38;5;241m.\u001b[39m_backend, \u001b[38;5;124m\"\u001b[39m\u001b[38;5;124mtarget\u001b[39m\u001b[38;5;124m\"\u001b[39m, \u001b[38;5;28;01mNone\u001b[39;00m) \u001b[38;5;129;01mand\u001b[39;00m \u001b[38;5;129;01mnot\u001b[39;00m is_simulator(\u001b[38;5;28mself\u001b[39m\u001b[38;5;241m.\u001b[39m_backend):\n\u001b[1;32m--> 155\u001b[0m         validate_isa_circuits([pub\u001b[38;5;241m.\u001b[39mcircuit], \u001b[38;5;28mself\u001b[39m\u001b[38;5;241m.\u001b[39m_backend\u001b[38;5;241m.\u001b[39mtarget)\n\u001b[0;32m    157\u001b[0m     \u001b[38;5;28;01mif\u001b[39;00m \u001b[38;5;28misinstance\u001b[39m(\u001b[38;5;28mself\u001b[39m\u001b[38;5;241m.\u001b[39m_backend, IBMBackend):\n\u001b[0;32m    158\u001b[0m         \u001b[38;5;28mself\u001b[39m\u001b[38;5;241m.\u001b[39m_backend\u001b[38;5;241m.\u001b[39mcheck_faulty(pub\u001b[38;5;241m.\u001b[39mcircuit)\n",
      "File \u001b[1;32m~\\Anaconda3\\envs\\qiskitone\\Lib\\site-packages\\qiskit_ibm_runtime\\utils\\utils.py:92\u001b[0m, in \u001b[0;36mvalidate_isa_circuits\u001b[1;34m(circuits, target)\u001b[0m\n\u001b[0;32m     90\u001b[0m message \u001b[38;5;241m=\u001b[39m is_isa_circuit(circuit, target)\n\u001b[0;32m     91\u001b[0m \u001b[38;5;28;01mif\u001b[39;00m message:\n\u001b[1;32m---> 92\u001b[0m     \u001b[38;5;28;01mraise\u001b[39;00m IBMInputValueError(\n\u001b[0;32m     93\u001b[0m         message\n\u001b[0;32m     94\u001b[0m         \u001b[38;5;241m+\u001b[39m \u001b[38;5;124m\"\u001b[39m\u001b[38;5;124m Circuits that do not match the target hardware definition are no longer \u001b[39m\u001b[38;5;124m\"\u001b[39m\n\u001b[0;32m     95\u001b[0m         \u001b[38;5;124m\"\u001b[39m\u001b[38;5;124msupported after March 4, 2024. See the transpilation documentation \u001b[39m\u001b[38;5;124m\"\u001b[39m\n\u001b[0;32m     96\u001b[0m         \u001b[38;5;124m\"\u001b[39m\u001b[38;5;124m(https://docs.quantum.ibm.com/transpile) for instructions to transform circuits and \u001b[39m\u001b[38;5;124m\"\u001b[39m\n\u001b[0;32m     97\u001b[0m         \u001b[38;5;124m\"\u001b[39m\u001b[38;5;124mthe primitive examples (https://docs.quantum.ibm.com/run/primitives-examples) to see \u001b[39m\u001b[38;5;124m\"\u001b[39m\n\u001b[0;32m     98\u001b[0m         \u001b[38;5;124m\"\u001b[39m\u001b[38;5;124mthis coupled with operator transformations.\u001b[39m\u001b[38;5;124m\"\u001b[39m\n\u001b[0;32m     99\u001b[0m     )\n",
      "\u001b[1;31mIBMInputValueError\u001b[0m: 'The instruction h on qubits (0,) is not supported by the target system. Circuits that do not match the target hardware definition are no longer supported after March 4, 2024. See the transpilation documentation (https://docs.quantum.ibm.com/transpile) for instructions to transform circuits and the primitive examples (https://docs.quantum.ibm.com/run/primitives-examples) to see this coupled with operator transformations.'"
     ]
    }
   ],
   "source": [
    "meas_all_zeros = '0'*len(target_qubits)\n",
    "measurement_counts = []\n",
    "with Session(backend=backend) as session:\n",
    "    # circuit, measure\n",
    "    sampler = Sampler(session=session)\n",
    "    for qc_qst in isa_circuits_qst:\n",
    "        job = sampler.run([qc_qst], shots=shots_per_experiment)\n",
    "\n",
    "        pub_results = job.result()[0]['__value__']['data'] #.data\n",
    "        pub_counts = pub_results.meas.get_counts() #MEAS.get_counts()\n",
    "\n",
    "        if meas_all_zeros not in pub_counts.keys():\n",
    "            pub_counts[meas_all_zeros] = 0\n",
    "\n",
    "#    for outcome in range(d):\n",
    "#        base2outcome = np.binary_repr(outcome,width=len(target_qubits))\n",
    "#        if base2outcome not in pub_counts.keys():\n",
    "#            pub_counts[base2outcome] = 0\n",
    "        \n",
    "        measurement_counts.append(pub_counts[meas_all_zeros])\n",
    "        \n",
    "    measurement_probs = measurement_counts / np.sum(measurement_counts)\n",
    "\n",
    "print(\"{0:<8}{1:^3}{2}\".format('basis','|','Probabilities'))\n",
    "for i, mb in enumerate(meas_basis_list):\n",
    "    print('{0:>8}{1:^3}{2}'.format(mb,'|',measurement_probs[i]))\n",
    "\n",
    "print('{0:>8}{1:^3}{2}'.format('SUM','|',np.sum(measurement_probs)))"
   ]
  },
  {
   "cell_type": "code",
   "execution_count": null,
   "id": "145e0c40-2b67-4f23-b320-1a2b61d0cb44",
   "metadata": {},
   "outputs": [],
   "source": [
    "from scipy.optimize import curve_fit\n",
    "\n",
    "xdata = np.array(trimmers)\n",
    "ydata = avg_survivalProbs\n",
    "ydata_int = avg_survivalProbs_int\n",
    "\n",
    "p0 = [0.5, 1.0, 0.5]\n",
    "\n",
    "p_opt, p_cov = curve_fit(fun_zeroth_RB, xdata, ydata, p0=p0)\n",
    "fit_xdata = np.linspace(1,max_length_seq,num=2*max_length_seq)\n",
    "fit_ydata = [fun_zeroth_RB(x, *p_opt) for x in fit_xdata]\n",
    "\n",
    "p_opt_int, p_cov = curve_fit(fun_zeroth_RB, xdata, ydata_int, p0=p0)\n",
    "fit_ydata_int = [fun_zeroth_RB(x, *p_opt_int) for x in fit_xdata]\n",
    "\n",
    "plt.scatter(xdata, ydata, label='data')\n",
    "plt.plot(fit_xdata, fit_ydata, label='[A,p,B]=[{:.4f},{:.4f},{:.4f}]'.format(*p_opt))\n",
    "\n",
    "plt.scatter(xdata, ydata_int, label='data_int')\n",
    "plt.plot(fit_xdata, fit_ydata_int, label='[A,p,B]=[{:.4f},{:.4f},{:.4f}]'.format(*p_opt_int))\n",
    "\n",
    "plt.xlabel('length of sequence (m)')\n",
    "plt.ylabel('survival probability')\n",
    "plt.legend()\n",
    "plt.grid()\n",
    "plt.show()\n",
    "\n",
    "print(\"Averaged Clifford Error Rate:{0:>12.6f}%\\nInterleaved Gate Error Rate:{1:>13.6f}%\".format((1-p_opt[1])/0.02,(1-(p_opt_int[1]/p_opt[1]))/0.02))"
   ]
  },
  {
   "cell_type": "markdown",
   "id": "e910611f-8710-4892-9fe8-722292e6ba22",
   "metadata": {},
   "source": [
    "### Backend Properties"
   ]
  },
  {
   "cell_type": "code",
   "execution_count": null,
   "id": "2aaf66b9-95b7-405f-85a6-7f0fa62f77fe",
   "metadata": {},
   "outputs": [],
   "source": [
    "backend_properties = backend.properties().to_dict()\n",
    "\n",
    "print('==============================')\n",
    "print(\"|      Calibration Data      |\")\n",
    "print('------------------------------')\n",
    "\n",
    "print(\"Backend name:\", backend_properties['backend_name'])\n",
    "print(\"Last calibrated date:\", backend_properties['last_update_date'])\n",
    "\n",
    "for qq in [target_qubit]:\n",
    "    rdout_err = backend_properties['qubits'][qq][4]['value'] * 100\n",
    "    id_err = backend_properties['gates'][qq]['parameters'][0]['value'] * 100\n",
    "    rz_err = backend_properties['gates'][qq+127]['parameters'][0]['value'] * 100\n",
    "    sx_err = backend_properties['gates'][qq+127*2]['parameters'][0]['value'] * 100\n",
    "    x_err = backend_properties['gates'][qq+127*3]['parameters'][0]['value'] * 100\n",
    "    \n",
    "    print(\"========================================================================================\")\n",
    "    print(\"qubit {0} | readout_error (%): {1}\".format(qq,rdout_err))\n",
    "    print(\"qubit {0} | id_error (%): {1}\".format(backend_properties['gates'][qq]['qubits'][0], id_err))\n",
    "    print(\"qubit {0} | rz_error (%): {1}\".format(backend_properties['gates'][qq+127]['qubits'][0], rz_err))\n",
    "    print(\"qubit {0} | sx_error (%): {1}\".format(backend_properties['gates'][qq+127*2]['qubits'][0], sx_err))\n",
    "    print(\"qubit {0} | x_error (%): {1}\".format(backend_properties['gates'][qq+127*3]['qubits'][0],x_err))\n",
    "                \n",
    "print('------------------------------')\n",
    "print(\"|            Done            |\")\n",
    "print('==============================')"
   ]
  },
  {
   "cell_type": "markdown",
   "id": "587ef2d1-2881-47b5-a411-654603289fd9",
   "metadata": {
    "jp-MarkdownHeadingCollapsed": true
   },
   "source": [
    "## function trash bin"
   ]
  },
  {
   "cell_type": "code",
   "execution_count": null,
   "id": "1e2f9c0e-4a5b-400b-9870-65ebaee79fcf",
   "metadata": {},
   "outputs": [],
   "source": [
    "def generate_inverse_unitary_gate(qc:QuantumCircuit, sequence: list[int]) -> QuantumCircuit:\n",
    "    qc_unitary_inverse = qc.copy_empty_like(name='C_u_inv')\n",
    "    \n",
    "    unitaries = {0:np.eye(2),\n",
    "                1:np.array([[0,1],[1,0]]),\n",
    "                2:np.array([[0,-1j],[1j,0]]),\n",
    "                3:np.array([[1,0],[0,-1]]),\n",
    "                4:np.array([[1,1],[1,-1]] / np.sqrt(2)),\n",
    "                5:np.array([[1,0],[0,1j]]),\n",
    "                6:np.array([[1,-1],[1,1]] / np.sqrt(2)),\n",
    "                7:np.array([[-1j,1j],[1j,1j]] / np.sqrt(2)),\n",
    "                8:np.array([[1,1],[-1,1]] / np.sqrt(2)),\n",
    "                9:np.array([[0,1j],[1,0]]),\n",
    "                10:np.array([[0,1],[1j,0]]),\n",
    "                11:np.array([[1,0],[0,-1j]]),\n",
    "                12:np.array([[1,0],[0,-1j]]),\n",
    "                13:np.array([[0,-1j],[1,0]]),\n",
    "                14:np.array([[0,-1],[1j,0]]),\n",
    "                15:np.array([[1,0],[0,1j]]),\n",
    "                16:np.array([[1,1j],[1,-1j]] / np.sqrt(2)),\n",
    "                17:np.array([[1,1],[1j,-1j]] / np.sqrt(2)),\n",
    "                18:np.array([[1,-1j],[1,1j]] / np.sqrt(2)),\n",
    "                19:np.array([[1,1],[-1j,1j]] / np.sqrt(2)),\n",
    "                20:np.array([[1,-1],[1,1]] / np.sqrt(2)),\n",
    "                21:np.array([[1,-1j],[1,1j]] / np.sqrt(2)),\n",
    "                22:np.array([[-1j,1],[1j,1]] / np.sqrt(2)),\n",
    "                23:np.array([[1,1j],[-1,1j]] / np.sqrt(2))}\n",
    "    \n",
    "    inverse_unitary = np.eye(2)\n",
    "    for g in sequence:\n",
    "        inverse_unitary = unitaries[g] @ inverse_unitary\n",
    "\n",
    "    qc_unitary_inverse.unitary(inverse_unitary.conj().T,0)\n",
    "#    print(type(qc_unitary_inverse))\n",
    "    \n",
    "    return qc_unitary_inverse\n",
    "\n",
    "\n",
    "############\n",
    "def inverse_map(X: np.array) -> np.array:\n",
    "    if isUnitary(X):\n",
    "        return X.conj().T\n",
    "    return X.conj().T\n",
    "\n",
    "def isUnitary(X: np.array) -> bool:\n",
    "    return np.allclose(np.eye(len(X)), X @ X.conj().T)"
   ]
  }
 ],
 "metadata": {
  "kernelspec": {
   "display_name": "Python 3 (ipykernel)",
   "language": "python",
   "name": "python3"
  },
  "language_info": {
   "codemirror_mode": {
    "name": "ipython",
    "version": 3
   },
   "file_extension": ".py",
   "mimetype": "text/x-python",
   "name": "python",
   "nbconvert_exporter": "python",
   "pygments_lexer": "ipython3",
   "version": "3.11.9"
  }
 },
 "nbformat": 4,
 "nbformat_minor": 5
}
