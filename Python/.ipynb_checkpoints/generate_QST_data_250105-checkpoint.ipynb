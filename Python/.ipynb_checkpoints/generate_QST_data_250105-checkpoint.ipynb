{
 "cells": [
  {
   "cell_type": "code",
   "execution_count": null,
   "id": "4a12da50-fd50-48ee-a644-c127f3c81ec4",
   "metadata": {},
   "outputs": [],
   "source": [
    "from qiskit.circuit import QuantumCircuit, QuantumRegister, ClassicalRegister\n",
    "from qiskit_ibm_runtime import Session, QiskitRuntimeService, SamplerV2 as Sampler\n",
    "from qiskit.transpiler.preset_passmanagers import generate_preset_pass_manager\n",
    "\n",
    "from matplotlib import pyplot as plt\n",
    "from datetime import datetime, timezone\n",
    "import numpy as np\n",
    "from numpy import linalg as la\n",
    "import os, csv"
   ]
  },
  {
   "cell_type": "markdown",
   "id": "2aa7150e-d056-4e24-9097-a008f0924c28",
   "metadata": {},
   "source": [
    "# API tokens for IBM Quantum Platform. Updated on 04-Dec-2024."
   ]
  },
  {
   "cell_type": "markdown",
   "id": "d9848b2d-a497-405f-b452-b79f13672156",
   "metadata": {
    "jp-MarkdownHeadingCollapsed": true
   },
   "source": [
    "## Account Information"
   ]
  },
  {
   "cell_type": "markdown",
   "id": "91da31f7-f39d-472a-bc2c-dc1183bafd61",
   "metadata": {
    "jp-MarkdownHeadingCollapsed": true
   },
   "source": [
    "### KQC_Pharmcadd\n",
    "### ibm-q-kqc / pharcadd / research OR ibm-q / open / main\n",
    "token = 'e2b36571a4a8ed3720a30c8d7b2d59b55347beebe48614832e74a156a3669e6179d306b2ff3727f08ef95b99c1166add2a774e80fff85405abe38a0da1eb1c8c'\n",
    "\n",
    "instances = [marrakesh, fez (156), torino (133), brussels, nazca, strasbourg, {kyiv, brisbane, sherbrooke} (127)]\n",
    "\n",
    "### my account: ichi@kaist\n",
    "### ibm-q-skku / kaist / kaist-graduate OR ibm-q / open / main\n",
    "token = '23b4b9e4f3507d73dd25691b5b96bc6a70ab7798ea6821b91db525151323338264a62e5adfff61edb604f62fcaa51a4484a54450bb239b8c52e8d1ccd76344c2'\n",
    "\n",
    "instances = [marrakesh, fez (156), torino (133), brussels, nazca, strasbourg, {kyiv, brisbane, sherbrooke} (127)]\n",
    "\n",
    "Usage limits (open): Monthly usage is limited up to 10 minutes, refreshes on the first of each month. At most 3 pending workloads at a time."
   ]
  },
  {
   "cell_type": "markdown",
   "id": "d9aa8245-8fe7-482c-adf4-2e9f0d69cbfa",
   "metadata": {},
   "source": [
    "## Load QiskitRuntimeService"
   ]
  },
  {
   "cell_type": "code",
   "execution_count": null,
   "id": "75b7978b-b7f5-4ee1-adc0-95fd22cf291d",
   "metadata": {},
   "outputs": [],
   "source": [
    "# Show the list of the saved accounts\n",
    "saved_accounts = QiskitRuntimeService.saved_accounts()\n",
    "\n",
    "#for key, value in saved_accounts.items():\n",
    "#    print(key, value)"
   ]
  },
  {
   "cell_type": "code",
   "execution_count": null,
   "id": "15a4fcc2-0025-4cc8-96d3-d9a4571ebbe9",
   "metadata": {},
   "outputs": [],
   "source": [
    "# Load account and generate QiskitRuntimeService\n",
    "default_account = saved_accounts['kaist_ichi9505']\n",
    "service = QiskitRuntimeService(channel=default_account['channel'],token=default_account['token'])"
   ]
  },
  {
   "cell_type": "markdown",
   "id": "368450d0-af5b-4b6a-8b52-ffc58ada04d7",
   "metadata": {},
   "source": [
    "# Functions"
   ]
  },
  {
   "cell_type": "code",
   "execution_count": null,
   "id": "4955b508-8a3a-4a80-a4f5-b59d4c369565",
   "metadata": {},
   "outputs": [],
   "source": [
    "# <name>: <type> = <default> -> <return_type>\n",
    "def generate_QST_circuit(qc: QuantumCircuit, meas_basis: list[str]) -> QuantumCircuit:\n",
    "    qc_qst = qc.copy_empty_like(name='meas_basis')\n",
    "    \n",
    "    gates = {'x':qc_qst.x,\n",
    "            'h':qc_qst.h,\n",
    "            's':qc_qst.s,\n",
    "            'sdg':qc_qst.sdg}\n",
    "    basis_conv = {'x+':['h'],\n",
    "                  'x-':['h','x'],\n",
    "                  'y+':['sdg','h'],\n",
    "                  'y-':['sdg','h','x'],\n",
    "                  'z+':[None],\n",
    "                  'z-':['x']}\n",
    "    \n",
    "    for qubit, mbasis in enumerate(meas_basis):\n",
    "        for cg in basis_conv[mbasis]:\n",
    "            if cg is None:\n",
    "                pass\n",
    "            else:\n",
    "                gates[cg](qubit)\n",
    "    \n",
    "    return qc_qst\n",
    "\n",
    "def generate_QDT_circuit(qc: QuantumCircuit, prep_state: list[str]) -> QuantumCircuit:\n",
    "    qc_qdt = qc.copy_empty_like(name='state_prep')\n",
    "    \n",
    "    gates = {'x':qc_qdt.x,\n",
    "            'h':qc_qdt.h,\n",
    "            's':qc_qdt.s,\n",
    "            'sdg':qc_qdt.sdg}\n",
    "    basis_conv = {'x+':['h'],\n",
    "                  'x-':['x','h'],\n",
    "                  'y+':['h','s'],\n",
    "                  'y-':['x','h','s'],\n",
    "                  'z+':[None],\n",
    "                  'z-':['x']}\n",
    "    \n",
    "    for qubit, pstate in enumerate(prep_state):\n",
    "        for cg in basis_conv[pstate]:\n",
    "            if cg is None:\n",
    "                pass\n",
    "            else:\n",
    "                gates[cg](qubit)\n",
    "    \n",
    "    return qc_qdt\n",
    "\n",
    "def generate_basis_list(blist:list[list[str]],basis:list[str]=['x+','x-','y+','y-','z+','z-']) -> list[list[str]]:\n",
    "    return [bpre+[badd] for bpre in blist for badd in basis]"
   ]
  },
  {
   "cell_type": "markdown",
   "id": "dcaa56eb-8eaf-4052-904f-c2b4335d45de",
   "metadata": {},
   "source": [
    "## conduct quantum experiments on ibm backend : QST"
   ]
  },
  {
   "cell_type": "code",
   "execution_count": null,
   "id": "4a798eb5-772b-4081-a25a-e97f09316296",
   "metadata": {},
   "outputs": [],
   "source": [
    "#backend = FakeKyiv()\n",
    "backend = service.least_busy() #get_backend('ibm_strasbourg') #least_busy()\n",
    "print(f'The chosen backend: {backend.name}')\n",
    "\n",
    "basis_gates = [instruction for instruction in backend.configuration().supported_instructions if len(instruction) < 5]\n",
    "print(f'The basis_gates of {backend.name}: {basis_gates}')\n",
    "\n",
    "target_qubits = [6,7]\n",
    "\n",
    "d = 2**len(target_qubits)\n",
    "shots_per_experiment = 8000\n",
    "\n",
    "pm = generate_preset_pass_manager(optimization_level=0, backend=backend, initial_layout=target_qubits)"
   ]
  },
  {
   "cell_type": "code",
   "execution_count": null,
   "id": "aa9764da-0e6a-4b68-9613-44f8b0d4fb86",
   "metadata": {},
   "outputs": [],
   "source": [
    "meas_basis_1 = ['x+','x-','y+','y-','z+','z-']\n",
    "meas_basis_list = []\n",
    "for qubit in range(len(target_qubits)):\n",
    "    if qubit==0:\n",
    "        meas_basis_list.extend([[m] for m in meas_basis_1])\n",
    "    else:\n",
    "        meas_basis_list = generate_basis_list(meas_basis_list, meas_basis_1)\n",
    "\n",
    "print(len(target_qubits))\n",
    "isa_circuits_qst = []    \n",
    "for meas_basis in meas_basis_list:\n",
    "    print(meas_basis)\n",
    "    qr = QuantumRegister(len(target_qubits))\n",
    "    qc = QuantumCircuit(qr)\n",
    "\n",
    "    qc.h(0)\n",
    "    qc.cx(0,1)\n",
    "    qc.barrier()\n",
    "    qc.compose(generate_QST_circuit(qc, meas_basis), inplace=True)\n",
    "    qc.measure_all()\n",
    "    \n",
    "    isa_circuits_qst.append(pm.run(qc))\n",
    "    qc.draw('mpl', filename=f\"../data/qst_{''.join(meas_basis)}.png\", initial_state=True)\n",
    "\n",
    "print(len(isa_circuits_qst))\n",
    "print('QST circuit generation is done.')"
   ]
  },
  {
   "cell_type": "code",
   "execution_count": null,
   "id": "7f55aba2-6ce2-48a1-a8f0-a8e1f41839ba",
   "metadata": {},
   "outputs": [],
   "source": [
    "meas_all_zeros = '0'*len(target_qubits)\n",
    "qst_measurement_counts = []\n",
    "with Session(backend=backend) as session:\n",
    "    # circuit, measure\n",
    "    sampler = Sampler(session=session)\n",
    "    for qc_qst in isa_circuits_qst:\n",
    "        job = sampler.run([qc_qst], shots=shots_per_experiment)\n",
    "\n",
    "        pub_results = job.result()[0]['__value__']['data'] #.data\n",
    "        pub_counts = pub_results.meas.get_counts() #MEAS.get_counts()\n",
    "\n",
    "        if meas_all_zeros not in pub_counts.keys():\n",
    "            pub_counts[meas_all_zeros] = 0\n",
    "\n",
    "#    for outcome in range(d):\n",
    "#        base2outcome = np.binary_repr(outcome,width=len(target_qubits))\n",
    "#        if base2outcome not in pub_counts.keys():\n",
    "#            pub_counts[base2outcome] = 0\n",
    "        \n",
    "        qst_measurement_counts.append(pub_counts[meas_all_zeros])\n",
    "        \n",
    "    qst_measurement_probs = qst_measurement_counts / np.sum(qst_measurement_counts)\n",
    "\n",
    "print(\"{0:<8}{1:^3}{2}\".format('basis','|','Probabilities'))\n",
    "for i, mb in enumerate(meas_basis_list):\n",
    "    print('{0:>8}{1:^3}{2}'.format(','.join(mb),'|',qst_measurement_probs[i]))\n",
    "\n",
    "print('{0:>8}{1:^3}{2}'.format('SUM','|',np.sum(qst_measurement_probs)))\n",
    "print(measurement_probs)"
   ]
  },
  {
   "cell_type": "markdown",
   "id": "373c06e5-043b-4713-96e3-26e044a0e697",
   "metadata": {},
   "source": [
    "## conduct quantum experiments on ibm backend : QDT"
   ]
  },
  {
   "cell_type": "code",
   "execution_count": null,
   "id": "7c9ecb49-759d-4a5e-b84f-0952f5b2bcf1",
   "metadata": {},
   "outputs": [],
   "source": [
    "#backend = FakeKyiv()\n",
    "backend = service.least_busy() #get_backend('ibm_strasbourg') #least_busy()\n",
    "print(f'The chosen backend: {backend.name}')\n",
    "\n",
    "basis_gates = [instruction for instruction in backend.configuration().supported_instructions if len(instruction) < 5]\n",
    "print(f'The basis_gates of {backend.name}: {basis_gates}')\n",
    "\n",
    "target_qubits = [6,7]\n",
    "\n",
    "d = 2**len(target_qubits)\n",
    "shots_per_experiment = 8000\n",
    "\n",
    "pm = generate_preset_pass_manager(optimization_level=0, backend=backend, initial_layout=target_qubits)"
   ]
  },
  {
   "cell_type": "code",
   "execution_count": null,
   "id": "14bd6d61-a537-4c9e-9137-a3e74c0d124c",
   "metadata": {},
   "outputs": [],
   "source": [
    "prep_state_1 = ['x+','x-','y+','y-','z+','z-']\n",
    "prep_state_list = []\n",
    "for qubit in range(len(target_qubits)):\n",
    "    if qubit==0:\n",
    "        prep_state_list.extend([[s] for s in prep_state_1])\n",
    "    else:\n",
    "        prep_state_list = generate_basis_list(prep_state_list, prep_state_1)\n",
    "\n",
    "isa_circuits_qdt = []\n",
    "for prep_state in prep_state_list:\n",
    "    qr = QuantumRegister(len(target_qubits))\n",
    "    qc = QuantumCircuit(qr)\n",
    "\n",
    "    qc.compose(generate_QDT_circuit(qc, prep_state), inplace=True)\n",
    "    qc.barrier()\n",
    "    qc.measure_all()\n",
    "    \n",
    "    isa_circuits_qdt.append(pm.run(qc))\n",
    "#    qc.draw('mpl', filename=f\"../data/qdt_{''.join(prep_state)}.png\", initial_state=True)\n",
    "\n",
    "print(len(isa_circuits_qdt))\n",
    "print('QDT circuit generation is done.')"
   ]
  },
  {
   "cell_type": "code",
   "execution_count": null,
   "id": "bb4a9104-d090-4b65-9b56-1b25e0e84506",
   "metadata": {},
   "outputs": [],
   "source": [
    "outcomes_bitstr = []\n",
    "for outcome in range(d):\n",
    "    outcomes_bitstr.append(np.binary_repr(outcome,width=len(target_qubits)))\n",
    "    \n",
    "qdt_measurement_counts = []\n",
    "with Session(backend=backend) as session:\n",
    "    # circuit, measure\n",
    "    sampler = Sampler(session=session)\n",
    "    for qc_qdt in isa_circuits_qdt:\n",
    "        job = sampler.run([qc_qdt], shots=shots_per_experiment)\n",
    "\n",
    "        pub_results = job.result()[0]['__value__']['data'] #.data\n",
    "        pub_counts = pub_results.meas.get_counts() #MEAS.get_counts()\n",
    "\n",
    "        for outcome in outcomes_bitstr:\n",
    "            if outcome not in pub_counts.keys():\n",
    "                pub_counts[outcome[-1::-1]] = 0 # little-endian -> big-endian\n",
    "        \n",
    "        qdt_measurement_counts.append(pub_counts)\n",
    "\n",
    "# big endian\n",
    "qdt_measurement_probs = []\n",
    "for i, counts_basis in enumerate(qdt_measurement_counts):\n",
    "    qdt_measurement_probs.append(counts_basis)\n",
    "    for outcome in outcomes_bitstr:\n",
    "        qdt_measurement_probs[i][outcome] /= shots_per_experiment\n",
    "        \n",
    "space = ' '*(12-len(target_qubits))\n",
    "print(\"{0:<8}{1:^3}{2:<5}{3}\".format('Input','|',' ','Probabilities'))\n",
    "print(\"{0:<8}{1:^3}{2:<5}{3}\".format('State','|','sum',space.join(outcomes_bitstr)))\n",
    "print(f\"{'-'*80}\", end='')\n",
    "\n",
    "for i, sp in enumerate(prep_state_list):\n",
    "    print('\\n{0:>8}{1:^3}{2:<5.1f}'.format(','.join(sp),'|',np.sum([prob for prob in qdt_measurement_probs[i].values()])),end='')\n",
    "    for prob in qdt_measurement_probs[i].values():\n",
    "        print('{0:<11.6f}'.format(prob), end=' ')"
   ]
  },
  {
   "cell_type": "markdown",
   "id": "e910611f-8710-4892-9fe8-722292e6ba22",
   "metadata": {},
   "source": [
    "### Backend Properties"
   ]
  },
  {
   "cell_type": "code",
   "execution_count": null,
   "id": "2aaf66b9-95b7-405f-85a6-7f0fa62f77fe",
   "metadata": {},
   "outputs": [],
   "source": [
    "backend_properties = backend.properties().to_dict()\n",
    "\n",
    "print('==============================')\n",
    "print(\"|      Calibration Data      |\")\n",
    "print('------------------------------')\n",
    "\n",
    "print(\"Backend name:\", backend_properties['backend_name'])\n",
    "print(\"Last calibrated date:\", backend_properties['last_update_date'])\n",
    "\n",
    "for i, qq in enumerate(target_qubits):\n",
    "    rdout_err = backend_properties['qubits'][qq][4]['value'] * 100\n",
    "    id_err = backend_properties['gates'][qq]['parameters'][0]['value'] * 100\n",
    "    rz_err = backend_properties['gates'][qq+127]['parameters'][0]['value'] * 100\n",
    "    sx_err = backend_properties['gates'][qq+127*2]['parameters'][0]['value'] * 100\n",
    "    x_err = backend_properties['gates'][qq+127*3]['parameters'][0]['value'] * 100\n",
    "    \n",
    "    print(\"========================================================================================\")\n",
    "    print(\"qubit {0} | readout_error (%): {1}\".format(qq,rdout_err))\n",
    "    print(\"qubit {0} | id_error (%): {1}\".format(backend_properties['gates'][qq]['qubits'][0], id_err))\n",
    "    print(\"qubit {0} | rz_error (%): {1}\".format(backend_properties['gates'][qq+127]['qubits'][0], rz_err))\n",
    "    print(\"qubit {0} | sx_error (%): {1}\".format(backend_properties['gates'][qq+127*2]['qubits'][0], sx_err))\n",
    "    print(\"qubit {0} | x_error (%): {1}\".format(backend_properties['gates'][qq+127*3]['qubits'][0],x_err))\n",
    "\n",
    "    if not i:\n",
    "        isdirect = False\n",
    "        target = target_qubits[i+1]\n",
    "        for ecr_spec in backend_properties['gates'][127*4:]:\n",
    "            if (qq in ecr_spec['qubits']) and (target in ecr_spec['qubits']):\n",
    "                isdirect = True\n",
    "                print(\"qubits {0} | ecr(cx?)_error (%): {1}\".format([qq, target],ecr_spec['parameters'][0]['value']))\n",
    "                \n",
    "        if not isdirect:\n",
    "            print(\"qubits [{0}, {1}] are not directly connected.\".format(qq,target))\n",
    "                \n",
    "print('------------------------------')\n",
    "print(\"|            Done            |\")\n",
    "print('==============================')"
   ]
  },
  {
   "cell_type": "markdown",
   "id": "587ef2d1-2881-47b5-a411-654603289fd9",
   "metadata": {
    "jp-MarkdownHeadingCollapsed": true
   },
   "source": [
    "## function trash bin"
   ]
  },
  {
   "cell_type": "code",
   "execution_count": null,
   "id": "1e2f9c0e-4a5b-400b-9870-65ebaee79fcf",
   "metadata": {},
   "outputs": [],
   "source": [
    "def generate_inverse_unitary_gate(qc:QuantumCircuit, sequence: list[int]) -> QuantumCircuit:\n",
    "    qc_unitary_inverse = qc.copy_empty_like(name='C_u_inv')\n",
    "    \n",
    "    unitaries = {0:np.eye(2),\n",
    "                1:np.array([[0,1],[1,0]]),\n",
    "                2:np.array([[0,-1j],[1j,0]]),\n",
    "                3:np.array([[1,0],[0,-1]]),\n",
    "                4:np.array([[1,1],[1,-1]] / np.sqrt(2)),\n",
    "                5:np.array([[1,0],[0,1j]]),\n",
    "                6:np.array([[1,-1],[1,1]] / np.sqrt(2)),\n",
    "                7:np.array([[-1j,1j],[1j,1j]] / np.sqrt(2)),\n",
    "                8:np.array([[1,1],[-1,1]] / np.sqrt(2)),\n",
    "                9:np.array([[0,1j],[1,0]]),\n",
    "                10:np.array([[0,1],[1j,0]]),\n",
    "                11:np.array([[1,0],[0,-1j]]),\n",
    "                12:np.array([[1,0],[0,-1j]]),\n",
    "                13:np.array([[0,-1j],[1,0]]),\n",
    "                14:np.array([[0,-1],[1j,0]]),\n",
    "                15:np.array([[1,0],[0,1j]]),\n",
    "                16:np.array([[1,1j],[1,-1j]] / np.sqrt(2)),\n",
    "                17:np.array([[1,1],[1j,-1j]] / np.sqrt(2)),\n",
    "                18:np.array([[1,-1j],[1,1j]] / np.sqrt(2)),\n",
    "                19:np.array([[1,1],[-1j,1j]] / np.sqrt(2)),\n",
    "                20:np.array([[1,-1],[1,1]] / np.sqrt(2)),\n",
    "                21:np.array([[1,-1j],[1,1j]] / np.sqrt(2)),\n",
    "                22:np.array([[-1j,1],[1j,1]] / np.sqrt(2)),\n",
    "                23:np.array([[1,1j],[-1,1j]] / np.sqrt(2))}\n",
    "    \n",
    "    inverse_unitary = np.eye(2)\n",
    "    for g in sequence:\n",
    "        inverse_unitary = unitaries[g] @ inverse_unitary\n",
    "\n",
    "    qc_unitary_inverse.unitary(inverse_unitary.conj().T,0)\n",
    "#    print(type(qc_unitary_inverse))\n",
    "    \n",
    "    return qc_unitary_inverse\n",
    "\n",
    "\n",
    "############\n",
    "def inverse_map(X: np.array) -> np.array:\n",
    "    if isUnitary(X):\n",
    "        return X.conj().T\n",
    "    return X.conj().T\n",
    "\n",
    "def isUnitary(X: np.array) -> bool:\n",
    "    return np.allclose(np.eye(len(X)), X @ X.conj().T)"
   ]
  }
 ],
 "metadata": {
  "kernelspec": {
   "display_name": "Python 3 (ipykernel)",
   "language": "python",
   "name": "python3"
  },
  "language_info": {
   "codemirror_mode": {
    "name": "ipython",
    "version": 3
   },
   "file_extension": ".py",
   "mimetype": "text/x-python",
   "name": "python",
   "nbconvert_exporter": "python",
   "pygments_lexer": "ipython3",
   "version": "3.11.9"
  }
 },
 "nbformat": 4,
 "nbformat_minor": 5
}
